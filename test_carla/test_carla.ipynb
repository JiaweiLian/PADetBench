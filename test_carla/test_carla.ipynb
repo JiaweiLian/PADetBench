{
 "cells": [
  {
   "cell_type": "markdown",
   "metadata": {},
   "source": [
    "## Launching CARLA and connecting the client"
   ]
  },
  {
   "cell_type": "code",
   "execution_count": null,
   "metadata": {},
   "outputs": [],
   "source": [
    "import carla\n",
    "import random\n",
    "\n",
    "# Connect to the client and retrieve the world object\n",
    "client = carla.Client('localhost', 2000)\n",
    "world = client.get_world()"
   ]
  },
  {
   "cell_type": "code",
   "execution_count": null,
   "metadata": {},
   "outputs": [],
   "source": [
    "settings = world.get_settings()\n",
    "settings.synchronous_mode = False # Enables synchronous mode\n",
    "world.apply_settings(settings)"
   ]
  },
  {
   "cell_type": "code",
   "execution_count": null,
   "metadata": {},
   "outputs": [],
   "source": [
    "client.get_available_maps()"
   ]
  },
  {
   "cell_type": "code",
   "execution_count": null,
   "metadata": {},
   "outputs": [],
   "source": [
    "world = client.load_world('Town02_Opt')"
   ]
  },
  {
   "cell_type": "markdown",
   "metadata": {},
   "source": [
    "## Spawn a car at a random location"
   ]
  },
  {
   "cell_type": "code",
   "execution_count": null,
   "metadata": {},
   "outputs": [],
   "source": [
    "# Get the blueprint library and filter for the vehicle blueprints\n",
    "# blueprints = world.get_blueprint_library().filter('*walker.pedestrian.*')\n",
    "# blueprints = world.get_blueprint_library().filter('*vehicle.audi*')\n",
    "blueprints = world.get_blueprint_library().filter('*prop*')\n",
    "print(blueprints)\n",
    "\n",
    "# Get the blueprint for the vehicle model you want to spawn\n",
    "# In this example, we're spawning a Tesla Model 3\n",
    "blueprint = blueprints.filter('streetsign01')[0]\n",
    "# blueprint = blueprints.filter('male1_v1')[0]\n",
    "\n",
    "# Choose a spawn location\n",
    "# In this example, we're spawning the vehicle at a random location\n",
    "transform = random.choice(world.get_map().get_spawn_points())\n",
    "\n",
    "# transform.location = carla.Location(x=19.350212, y=137.459961, z=0.600000)\n",
    "\n",
    "# Spawn the vehicle\n",
    "vehicle = world.spawn_actor(blueprint, transform)"
   ]
  },
  {
   "cell_type": "markdown",
   "metadata": {},
   "source": [
    "## Change vehicle's yaw"
   ]
  },
  {
   "cell_type": "code",
   "execution_count": null,
   "metadata": {},
   "outputs": [
    {
     "ename": "",
     "evalue": "",
     "output_type": "error",
     "traceback": [
      "\u001b[1;31mThe Kernel crashed while executing code in the current cell or a previous cell. \n",
      "\u001b[1;31mPlease review the code in the cell(s) to identify a possible cause of the failure. \n",
      "\u001b[1;31mClick <a href='https://aka.ms/vscodeJupyterKernelCrash'>here</a> for more info. \n",
      "\u001b[1;31mView Jupyter <a href='command:jupyter.viewOutput'>log</a> for further details."
     ]
    }
   ],
   "source": [
    "transform = vehicle.get_transform()\n",
    "transform.rotation.yaw += 90\n",
    "vehicle.set_transform(transform)"
   ]
  },
  {
   "cell_type": "markdown",
   "metadata": {},
   "source": [
    "## Browse vehicle blueprints"
   ]
  },
  {
   "cell_type": "code",
   "execution_count": null,
   "metadata": {},
   "outputs": [],
   "source": [
    "# Iterate over the blueprints in the blueprint library\n",
    "print(len(blueprints))\n",
    "for blueprint in blueprints:\n",
    "    # Print the ID of the vehicle\n",
    "    print('ID:', blueprint.id)\n",
    "    \n",
    "    # # Print the attributes of the vehicle\n",
    "    # for attribute in vehicle:\n",
    "    #     print('Attribute:', attribute)"
   ]
  },
  {
   "cell_type": "markdown",
   "metadata": {},
   "source": [
    "## Move spectator to the vehicle's location"
   ]
  },
  {
   "cell_type": "code",
   "execution_count": null,
   "metadata": {},
   "outputs": [],
   "source": [
    "# Get the spectator\n",
    "spectator = world.get_spectator()\n",
    "# Move the spectator to the spawn position of the vehicle\n",
    "spectator.set_transform(vehicle.get_transform())\n",
    "print(spectator.get_transform().location)"
   ]
  },
  {
   "cell_type": "markdown",
   "metadata": {},
   "source": [
    "## Look at the vehicle"
   ]
  },
  {
   "cell_type": "code",
   "execution_count": null,
   "metadata": {},
   "outputs": [],
   "source": [
    "import math\n",
    "\n",
    "# Get the location of the vehicle\n",
    "vehicle_location = vehicle.get_location()\n",
    "# vehicle_location = carla.Location(x=37.414803, y=50.504078, z=1.762922)\n",
    "\n",
    "print(vehicle_location)\n",
    "\n",
    "# Set the location of the spectator\n",
    "spectator_location = carla.Location(vehicle_location.x + 4, vehicle_location.y + 4, vehicle_location.z + 4)  # 10 meters above the vehicle\n",
    "spectator.set_location(spectator_location)\n",
    "\n",
    "# Calculate the direction from the spectator to the vehicle\n",
    "direction = vehicle_location - spectator_location\n",
    "\n",
    "# Calculate the rotation that makes the spectator look at the vehicle\n",
    "rotation = carla.Rotation()\n",
    "rotation.yaw = +math.degrees(math.atan2(direction.y, direction.x))  # Yaw angle\n",
    "rotation.pitch = +math.degrees(math.atan2(direction.z, math.sqrt(direction.x**2 + direction.y**2)))  # Pitch angle\n",
    "\n",
    "# Set the rotation of the spectator\n",
    "spectator.set_transform(carla.Transform(spectator_location, rotation))"
   ]
  },
  {
   "cell_type": "markdown",
   "metadata": {},
   "source": [
    "## Spectate around the spawned vehicle in a circle and look at the vehicle"
   ]
  },
  {
   "cell_type": "code",
   "execution_count": null,
   "metadata": {},
   "outputs": [],
   "source": [
    "import math\n",
    "import time\n",
    "\n",
    "# Define the radius of the circle and the height of the spectator\n",
    "radius = 10  # 10 meters\n",
    "height = 5   # 5 meters\n",
    "\n",
    "# Define the speed of the rotation (in radians per second)\n",
    "speed = 0.5\n",
    "\n",
    "# Get the current time\n",
    "start_time = time.time()\n",
    "\n",
    "while True:\n",
    "    # Calculate the angle based on the elapsed time and the speed\n",
    "    angle = speed * (time.time() - start_time)\n",
    "\n",
    "    # Get the location of the vehicle\n",
    "    vehicle_location = vehicle.get_location()\n",
    "\n",
    "    # Calculate the new location of the spectator\n",
    "    location = carla.Location()\n",
    "    location.x = vehicle_location.x - radius * math.cos(angle)  # X-coordinate\n",
    "    location.y = vehicle_location.y + radius * math.sin(angle)  # Y-coordinate\n",
    "    location.z = vehicle_location.z + height                    # Z-coordinate\n",
    "\n",
    "    # Calculate the rotation that makes the spectator look at the vehicle\n",
    "    rotation = carla.Rotation()\n",
    "    rotation.yaw = -math.degrees(angle)  # Yaw angle\n",
    "    rotation.pitch = -math.degrees(math.atan(height / radius))  # Pitch angle\n",
    "\n",
    "    # Create a new transform with the new location and the new rotation\n",
    "    transform = carla.Transform(location, rotation)\n",
    "\n",
    "    # Set the transform of the spectator\n",
    "    spectator.set_transform(transform)\n",
    "\n",
    "    # Wait for a short moment before the next update\n",
    "    time.sleep(0.01)"
   ]
  },
  {
   "cell_type": "markdown",
   "metadata": {},
   "source": [
    "## Dynamic weather"
   ]
  },
  {
   "cell_type": "code",
   "execution_count": null,
   "metadata": {},
   "outputs": [],
   "source": [
    "\"\"\"\n",
    "CARLA Dynamic Weather:\n",
    "\n",
    "Connect to a CARLA Simulator instance and control the weather. Change Sun\n",
    "position smoothly with time and generate storms occasionally.\n",
    "\"\"\"\n",
    "\n",
    "import glob\n",
    "import os\n",
    "import sys\n",
    "\n",
    "try:\n",
    "    sys.path.append(glob.glob('../carla/dist/carla-*%d.%d-%s.egg' % (\n",
    "        sys.version_info.major,\n",
    "        sys.version_info.minor,\n",
    "        'win-amd64' if os.name == 'nt' else 'linux-x86_64'))[0])\n",
    "except IndexError:\n",
    "    pass\n",
    "\n",
    "import carla\n",
    "\n",
    "import argparse\n",
    "import math\n",
    "import time\n",
    "\n",
    "\n",
    "def clamp(value, minimum=0.0, maximum=100.0):\n",
    "    return max(minimum, min(value, maximum))\n",
    "\n",
    "\n",
    "class Sun(object):\n",
    "    def __init__(self, azimuth, altitude):\n",
    "        self.azimuth = azimuth\n",
    "        self.altitude = altitude\n",
    "        self._t = 0.0\n",
    "\n",
    "    def tick(self, delta_seconds):\n",
    "        self._t += 0.008 * delta_seconds\n",
    "        self._t %= 2.0 * math.pi\n",
    "        self.azimuth += 0.25 * delta_seconds\n",
    "        self.azimuth %= 360.0\n",
    "        self.altitude = (70 * math.sin(self._t)) - 20\n",
    "\n",
    "    def __str__(self):\n",
    "        return 'Sun(alt: %.2f, azm: %.2f)' % (self.altitude, self.azimuth)\n",
    "\n",
    "\n",
    "class Storm(object):\n",
    "    def __init__(self, precipitation):\n",
    "        self._t = precipitation if precipitation > 0.0 else -50.0\n",
    "        self._increasing = True\n",
    "        self.clouds = 0.0\n",
    "        self.rain = 0.0\n",
    "        self.wetness = 0.0\n",
    "        self.puddles = 0.0\n",
    "        self.wind = 0.0\n",
    "        self.fog = 0.0\n",
    "\n",
    "    def tick(self, delta_seconds):\n",
    "        delta = (1.3 if self._increasing else -1.3) * delta_seconds\n",
    "        self._t = clamp(delta + self._t, -250.0, 100.0)\n",
    "        self.clouds = clamp(self._t + 40.0, 0.0, 90.0)\n",
    "        self.rain = clamp(self._t, 0.0, 80.0)\n",
    "        delay = -10.0 if self._increasing else 90.0\n",
    "        self.puddles = clamp(self._t + delay, 0.0, 85.0)\n",
    "        self.wetness = clamp(self._t * 5, 0.0, 100.0)\n",
    "        self.wind = 5.0 if self.clouds <= 20 else 90 if self.clouds >= 70 else 40\n",
    "        self.fog = clamp(self._t - 10, 0.0, 30.0)\n",
    "        if self._t == -250.0:\n",
    "            self._increasing = True\n",
    "        if self._t == 100.0:\n",
    "            self._increasing = False\n",
    "\n",
    "    def __str__(self):\n",
    "        return 'Storm(clouds=%d%%, rain=%d%%, wind=%d%%)' % (self.clouds, self.rain, self.wind)\n",
    "\n",
    "\n",
    "class Weather(object):\n",
    "    def __init__(self, weather):\n",
    "        self.weather = weather\n",
    "        self._sun = Sun(weather.sun_azimuth_angle, weather.sun_altitude_angle)\n",
    "        self._storm = Storm(weather.precipitation)\n",
    "\n",
    "    def tick(self, delta_seconds):\n",
    "        self._sun.tick(delta_seconds)\n",
    "        self._storm.tick(delta_seconds)\n",
    "        self.weather.cloudiness = self._storm.clouds\n",
    "        self.weather.precipitation = self._storm.rain\n",
    "        self.weather.precipitation_deposits = self._storm.puddles\n",
    "        self.weather.wind_intensity = self._storm.wind\n",
    "        self.weather.fog_density = self._storm.fog\n",
    "        self.weather.wetness = self._storm.wetness\n",
    "        self.weather.sun_azimuth_angle = self._sun.azimuth\n",
    "        self.weather.sun_altitude_angle = self._sun.altitude\n",
    "\n",
    "    def __str__(self):\n",
    "        return '%s %s' % (self._sun, self._storm)\n",
    "\n",
    "\n",
    "speed_weather_changing = 30.0\n",
    "update_freq = 0.1 / speed_weather_changing\n",
    "# Define the radius of the circle and the height of the spectator\n",
    "radius = 10  # 10 meters\n",
    "height = 5   # 5 meters\n",
    "# Define the speed of the rotation (in radians per second)\n",
    "speed_rotation = 0.5\n",
    "start_time = time.time()\n",
    "\n",
    "weather = Weather(world.get_weather())\n",
    "\n",
    "elapsed_time = 0.0\n",
    "\n",
    "while True:\n",
    "    timestamp = world.wait_for_tick(seconds=30.0).timestamp\n",
    "    elapsed_time += timestamp.delta_seconds\n",
    "    if elapsed_time > update_freq:\n",
    "        weather.tick(speed_weather_changing * elapsed_time)\n",
    "        world.set_weather(weather.weather)\n",
    "        sys.stdout.write('\\r' + str(weather) + 12 * ' ')\n",
    "        sys.stdout.flush()\n",
    "        elapsed_time = 0.0\n",
    "        \n",
    "        # Calculate the angle based on the elapsed time and the speed_rotation\n",
    "        angle = speed_rotation * (time.time() - start_time)\n",
    "\n",
    "        # Get the location of the vehicle\n",
    "        vehicle_location = vehicle.get_location()\n",
    "\n",
    "        # Calculate the new location of the spectator\n",
    "        location = carla.Location()\n",
    "        location.x = vehicle_location.x - radius * math.cos(angle)  # X-coordinate\n",
    "        location.y = vehicle_location.y + radius * math.sin(angle)  # Y-coordinate\n",
    "        location.z = vehicle_location.z + height                    # Z-coordinate\n",
    "\n",
    "        # Calculate the rotation that makes the spectator look at the vehicle\n",
    "        rotation = carla.Rotation()\n",
    "        rotation.yaw = -math.degrees(angle)  # Yaw angle\n",
    "        rotation.pitch = -math.degrees(math.atan(height / radius))  # Pitch angle\n",
    "\n",
    "        # Create a new transform with the new location and the new rotation\n",
    "        transform = carla.Transform(location, rotation)\n",
    "\n",
    "        # Set the transform of the spectator\n",
    "        spectator.set_transform(transform)\n"
   ]
  },
  {
   "cell_type": "markdown",
   "metadata": {},
   "source": [
    "## Export images from the spectator's view in CARLA"
   ]
  },
  {
   "cell_type": "code",
   "execution_count": null,
   "metadata": {},
   "outputs": [],
   "source": [
    "# Import the necessary libraries\n",
    "import carla\n",
    "import os\n",
    "\n",
    "# Define a function to save images\n",
    "def save_image(image):\n",
    "    image.save_to_disk(os.path.join('./output', '%06d.png' % image.frame))\n",
    "\n",
    "# Create a blueprint for the camera\n",
    "blueprint = world.get_blueprint_library().find('sensor.camera.rgb')\n",
    "\n",
    "# Set the resolution of the camera\n",
    "blueprint.set_attribute('image_size_x', '800')\n",
    "blueprint.set_attribute('image_size_y', '600')\n",
    "\n",
    "# Attach the camera to the spectator\n",
    "transform = carla.Transform(carla.Location(x=0.0, y=0.0, z=0))\n",
    "camera = world.spawn_actor(blueprint, transform, attach_to=spectator)\n",
    "\n",
    "# Register the function to save images\n",
    "camera.listen(save_image)\n",
    "\n",
    "# Wait for a few seconds to let the camera capture images\n",
    "time.sleep(2)\n",
    "\n",
    "# Stop the camera\n",
    "camera.stop()\n",
    "\n",
    "# Destroy the camera\n",
    "camera.destroy()"
   ]
  }
 ],
 "metadata": {
  "kernelspec": {
   "display_name": "carla",
   "language": "python",
   "name": "python3"
  },
  "language_info": {
   "codemirror_mode": {
    "name": "ipython",
    "version": 3
   },
   "file_extension": ".py",
   "mimetype": "text/x-python",
   "name": "python",
   "nbconvert_exporter": "python",
   "pygments_lexer": "ipython3",
   "version": "3.9.19"
  }
 },
 "nbformat": 4,
 "nbformat_minor": 2
}
