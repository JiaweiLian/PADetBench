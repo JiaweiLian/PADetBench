{
 "cells": [
  {
   "cell_type": "code",
   "execution_count": 1,
   "metadata": {},
   "outputs": [],
   "source": [
    "import carla\n",
    "from PIL import Image\n",
    "\n",
    "# Connect to client\n",
    "client = carla.Client('localhost', 2000)\n",
    "world = client.get_world()"
   ]
  },
  {
   "cell_type": "code",
   "execution_count": 2,
   "metadata": {},
   "outputs": [
    {
     "ename": "",
     "evalue": "",
     "output_type": "error",
     "traceback": [
      "\u001b[1;31mThe Kernel crashed while executing code in the current cell or a previous cell. \n",
      "\u001b[1;31mPlease review the code in the cell(s) to identify a possible cause of the failure. \n",
      "\u001b[1;31mClick <a href='https://aka.ms/vscodeJupyterKernelCrash'>here</a> for more info. \n",
      "\u001b[1;31mView Jupyter <a href='command:jupyter.viewOutput'>log</a> for further details."
     ]
    }
   ],
   "source": [
    "# Load the modified texture\n",
    "image = Image.open('D:\\Files\\Code\\Data\\Tools\\concatenated_images\\pure_white_image.png')\n",
    "height = image.size[1]\n",
    "width = image.size[0]\n",
    "\n",
    "# Instantiate a carla.TextureColor object and populate\n",
    "# the pixels with data from the modified image\n",
    "texture = carla.TextureColor(width ,height)\n",
    "for x in range(0,width):\n",
    "    for y in range(0,height):\n",
    "        color = image.getpixel((x,y))\n",
    "        r = int(color[0])\n",
    "        g = int(color[1])\n",
    "        b = int(color[2])\n",
    "        a = 255\n",
    "        texture.set(x, y, carla.Color(r,g,b,a))\n",
    "\n",
    "# Now apply the texture to the building asset\n",
    "world.apply_color_texture_to_object('BP_Audi_Etron_adv_2', carla.MaterialParameter.Diffuse, texture)\n"
   ]
  }
 ],
 "metadata": {
  "kernelspec": {
   "display_name": "carla",
   "language": "python",
   "name": "python3"
  },
  "language_info": {
   "codemirror_mode": {
    "name": "ipython",
    "version": 3
   },
   "file_extension": ".py",
   "mimetype": "text/x-python",
   "name": "python",
   "nbconvert_exporter": "python",
   "pygments_lexer": "ipython3",
   "version": "3.9.19"
  }
 },
 "nbformat": 4,
 "nbformat_minor": 2
}
