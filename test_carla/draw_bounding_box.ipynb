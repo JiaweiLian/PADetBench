{
 "cells": [
  {
   "cell_type": "code",
   "execution_count": null,
   "metadata": {},
   "outputs": [],
   "source": [
    "import cv2\n",
    "import json\n",
    "from pycocotools.coco import COCO\n",
    "import os\n",
    "\n",
    "# Load the COCO dataset\n",
    "coco = COCO(r'D:\\Files\\Code\\Data\\Benchmarking_Physical_Attack\\output_rs10_00_ws10_00\\coco_label.json')\n",
    "\n",
    "data_dir = r'D:\\Files\\Code\\Data\\Benchmarking_Physical_Attack\\output_rs10_00_ws10_00'\n",
    "\n",
    "# Get the IDs of all the images in the dataset\n",
    "img_ids = coco.getImgIds()\n",
    "\n",
    "# For each image\n",
    "for img_id in img_ids:\n",
    "    # Get the image info\n",
    "    img_info = coco.loadImgs(img_id)[0]\n",
    "\n",
    "    img_path = os.path.join(data_dir, img_info['file_name'])\n",
    "\n",
    "    # Load the image\n",
    "    img = cv2.imread(img_path)\n",
    "\n",
    "    # Get the IDs of all the annotations for this image\n",
    "    ann_ids = coco.getAnnIds(imgIds=img_info['id'])\n",
    "\n",
    "    # For each annotation\n",
    "    for ann_id in ann_ids:\n",
    "        # Get the annotation info\n",
    "        ann_info = coco.loadAnns(ann_id)[0]\n",
    "\n",
    "        # Get the bounding box\n",
    "        bbox = ann_info['bbox']\n",
    "\n",
    "        # Draw the bounding box\n",
    "        cv2.rectangle(img, (int(bbox[0]), int(bbox[1])), (int(bbox[0] + bbox[2]), int(bbox[1] + bbox[3])), (255, 0, 0), 2)\n",
    "\n",
    "    # Display the image\n",
    "    cv2.imshow('Image', img)\n",
    "    cv2.waitKey(0)"
   ]
  }
 ],
 "metadata": {
  "kernelspec": {
   "display_name": "carla",
   "language": "python",
   "name": "python3"
  },
  "language_info": {
   "codemirror_mode": {
    "name": "ipython",
    "version": 3
   },
   "file_extension": ".py",
   "mimetype": "text/x-python",
   "name": "python",
   "nbconvert_exporter": "python",
   "pygments_lexer": "ipython3",
   "version": "3.9.19"
  }
 },
 "nbformat": 4,
 "nbformat_minor": 2
}
